{
  "nbformat": 4,
  "nbformat_minor": 0,
  "metadata": {
    "colab": {
      "provenance": []
    },
    "kernelspec": {
      "name": "python3",
      "display_name": "Python 3"
    },
    "language_info": {
      "name": "python"
    }
  },
  "cells": [
    {
      "cell_type": "markdown",
      "source": [
        "Cargar Datos"
      ],
      "metadata": {
        "id": "qwJ5Y3cPCtpr"
      }
    },
    {
      "cell_type": "code",
      "execution_count": 1,
      "metadata": {
        "colab": {
          "base_uri": "https://localhost:8080/",
          "height": 141
        },
        "id": "cKIRhjNqCi0c",
        "outputId": "53128f3e-927a-4dc1-bfea-29c8351cb989"
      },
      "outputs": [
        {
          "output_type": "error",
          "ename": "NameError",
          "evalue": "name 'pd' is not defined",
          "traceback": [
            "\u001b[0;31m---------------------------------------------------------------------------\u001b[0m",
            "\u001b[0;31mNameError\u001b[0m                                 Traceback (most recent call last)",
            "\u001b[0;32m<ipython-input-1-67153c9b7bf6>\u001b[0m in \u001b[0;36m<cell line: 1>\u001b[0;34m()\u001b[0m\n\u001b[0;32m----> 1\u001b[0;31m \u001b[0mdf\u001b[0m \u001b[0;34m=\u001b[0m \u001b[0mpd\u001b[0m\u001b[0;34m.\u001b[0m\u001b[0mread_csv\u001b[0m\u001b[0;34m(\u001b[0m\u001b[0;34m'datos.csv'\u001b[0m\u001b[0;34m)\u001b[0m\u001b[0;34m\u001b[0m\u001b[0;34m\u001b[0m\u001b[0m\n\u001b[0m",
            "\u001b[0;31mNameError\u001b[0m: name 'pd' is not defined"
          ]
        }
      ],
      "source": [
        "df = pd.read_csv('datos.csv')"
      ]
    },
    {
      "cell_type": "markdown",
      "source": [
        "Visualizar los Datos"
      ],
      "metadata": {
        "id": "YrBPiGUVC9HS"
      }
    },
    {
      "cell_type": "code",
      "source": [
        "print(df.head())"
      ],
      "metadata": {
        "id": "CrIeSUDOC32t"
      },
      "execution_count": null,
      "outputs": []
    },
    {
      "cell_type": "markdown",
      "source": [
        "Valores (outliers)"
      ],
      "metadata": {
        "id": "WwRwoEDDDBJC"
      }
    },
    {
      "cell_type": "code",
      "source": [
        "outliers = df[(df[columna] < limite_inferior) | (df[columna] > limite_superior)]\n",
        "print(f\"\\nValores atípicos en '{columna}':\\n\", outliers)\n",
        "\n",
        "df_sin_outliers = df[(df[columna] >= limite_inferior) & (df[columna] <= limite_superior)]\n",
        "return df_sin_outliers"
      ],
      "metadata": {
        "id": "kYRCtA4PDG34"
      },
      "execution_count": null,
      "outputs": []
    },
    {
      "cell_type": "markdown",
      "source": [
        "Inconsistencias"
      ],
      "metadata": {
        "id": "PwJBRGttDMXZ"
      }
    },
    {
      "cell_type": "code",
      "source": [
        "df['Genero'].replace({'M': 'Masculino', 'H': 'Masculino', 'F': 'Femenino'}, inplace=True)"
      ],
      "metadata": {
        "id": "Kt-KA8VaDQEW"
      },
      "execution_count": null,
      "outputs": []
    },
    {
      "cell_type": "markdown",
      "source": [
        "Eliminar Valores Faltantes"
      ],
      "metadata": {
        "id": "UBKJgQ7GDPB8"
      }
    },
    {
      "cell_type": "code",
      "source": [
        "df = df.dropna()\n",
        "df.fillna(df.mean(), inplace=True)"
      ],
      "metadata": {
        "id": "MQEcjbjTDYCv"
      },
      "execution_count": null,
      "outputs": []
    },
    {
      "cell_type": "markdown",
      "source": [
        "Filtrar Datos"
      ],
      "metadata": {
        "id": "7_qnTULdDfZx"
      }
    },
    {
      "cell_type": "code",
      "source": [
        "df_filtrado = df[df['edad'] > 18]\n"
      ],
      "metadata": {
        "id": "rxbISwY5Dd9b"
      },
      "execution_count": null,
      "outputs": []
    },
    {
      "cell_type": "markdown",
      "source": [
        "Corrección de Errores"
      ],
      "metadata": {
        "id": "vMvu_aJ2DiTb"
      }
    },
    {
      "cell_type": "code",
      "source": [
        "df['edad'] = pd.to_numeric(df['edad'], errors='coerce')\n",
        "df['nombre'] = df['nombre'].str.lower()"
      ],
      "metadata": {
        "id": "jFjpV-3ZDkIL"
      },
      "execution_count": null,
      "outputs": []
    },
    {
      "cell_type": "markdown",
      "source": [
        "Eliminar Columnas Innecesarias"
      ],
      "metadata": {
        "id": "teK9eAPLDoXy"
      }
    },
    {
      "cell_type": "code",
      "source": [
        "df = df.drop(columns=['columna_innecesaria'])\n",
        "df = df.drop_duplicates()"
      ],
      "metadata": {
        "id": "K-rh_MJuDpyD"
      },
      "execution_count": null,
      "outputs": []
    },
    {
      "cell_type": "markdown",
      "source": [
        "Renombrar Columnas"
      ],
      "metadata": {
        "id": "_IN_rhPCDtNy"
      }
    },
    {
      "cell_type": "code",
      "source": [
        "df.rename(columns={'viejo_nombre': 'nuevo_nombre'}, inplace=True)"
      ],
      "metadata": {
        "id": "p9fxZCSEDudY"
      },
      "execution_count": null,
      "outputs": []
    },
    {
      "cell_type": "markdown",
      "source": [
        "Exportar Datos Limpios"
      ],
      "metadata": {
        "id": "NEzyOnJ2DxMA"
      }
    },
    {
      "cell_type": "code",
      "source": [
        "df.to_csv('datos_limpios.csv', index=False)"
      ],
      "metadata": {
        "id": "YGNwsTNrDzCE"
      },
      "execution_count": null,
      "outputs": []
    },
    {
      "cell_type": "markdown",
      "source": [
        "Ejemplo completo"
      ],
      "metadata": {
        "id": "QjmyYqHeDzjL"
      }
    },
    {
      "cell_type": "code",
      "source": [
        "import pandas as pd\n",
        "import numpy as np\n",
        "\n",
        "data = {\n",
        "    'Nombre': ['Juan', 'Maria', 'Pedro', 'Maria', None, 'Ana', 'Carlos', 'Juan'],\n",
        "    'Edad': [25, 30, np.nan, 30, 22, 28, np.nan, 25],\n",
        "    'Genero': ['M', 'F', 'M', 'F', None, 'F', 'M', 'M'],\n",
        "    'Email': ['juan@mail.com', 'maria@mail.com', 'pedro@mail.com', 'maria@mail.com', 'ana@mail.com', 'ana@mail.com', None, 'juan@mail.com'],\n",
        "    'Pais': ['Colombia', 'Colombia', 'Mexico', 'Colombia', 'Argentina', 'Argentina', 'Brasil', 'Colombia']\n",
        "}\n",
        "\n",
        "df = pd.DataFrame(data)\n",
        "print(\"Data original:\")\n",
        "print(df)\n",
        "\n",
        "df['Edad'].fillna(df['Edad'].mean(), inplace=True)\n",
        "df['Genero'].fillna(df['Genero'].mode()[0], inplace=True)\n",
        "df.dropna(subset=['Email'], inplace=True)\n",
        "print(\"\\nDespués de manejar valores faltantes:\")\n",
        "print(df)\n",
        "\n",
        "df.drop_duplicates(inplace=True)\n",
        "print(\"\\nDespués de eliminar duplicados:\")\n",
        "print(df)\n",
        "\n",
        "df['Genero'].replace({'M': 'Masculino', 'F': 'Femenino'}, inplace=True)\n",
        "print(\"\\nDespués de estandarizar los valores:\")\n",
        "print(df)\n",
        "\n",
        "df.reset_index(drop=True, inplace=True)\n",
        "print(\"\\nDespués de restablecer el índice:\")\n",
        "print(df)\n",
        "\n",
        "df.to_csv('Datosencillos.csv', index=False)\n",
        "\n"
      ],
      "metadata": {
        "colab": {
          "base_uri": "https://localhost:8080/"
        },
        "id": "_M0ia5N3D25V",
        "outputId": "f389c075-21e1-4ff5-aa06-ec75bfa96fdc"
      },
      "execution_count": 3,
      "outputs": [
        {
          "output_type": "stream",
          "name": "stdout",
          "text": [
            "Data original:\n",
            "   Nombre  Edad Genero           Email       Pais\n",
            "0    Juan  25.0      M   juan@mail.com   Colombia\n",
            "1   Maria  30.0      F  maria@mail.com   Colombia\n",
            "2   Pedro   NaN      M  pedro@mail.com     Mexico\n",
            "3   Maria  30.0      F  maria@mail.com   Colombia\n",
            "4    None  22.0   None    ana@mail.com  Argentina\n",
            "5     Ana  28.0      F    ana@mail.com  Argentina\n",
            "6  Carlos   NaN      M            None     Brasil\n",
            "7    Juan  25.0      M   juan@mail.com   Colombia\n",
            "\n",
            "Después de manejar valores faltantes:\n",
            "  Nombre       Edad Genero           Email       Pais\n",
            "0   Juan  25.000000      M   juan@mail.com   Colombia\n",
            "1  Maria  30.000000      F  maria@mail.com   Colombia\n",
            "2  Pedro  26.666667      M  pedro@mail.com     Mexico\n",
            "3  Maria  30.000000      F  maria@mail.com   Colombia\n",
            "4   None  22.000000      M    ana@mail.com  Argentina\n",
            "5    Ana  28.000000      F    ana@mail.com  Argentina\n",
            "7   Juan  25.000000      M   juan@mail.com   Colombia\n",
            "\n",
            "Después de eliminar duplicados:\n",
            "  Nombre       Edad Genero           Email       Pais\n",
            "0   Juan  25.000000      M   juan@mail.com   Colombia\n",
            "1  Maria  30.000000      F  maria@mail.com   Colombia\n",
            "2  Pedro  26.666667      M  pedro@mail.com     Mexico\n",
            "4   None  22.000000      M    ana@mail.com  Argentina\n",
            "5    Ana  28.000000      F    ana@mail.com  Argentina\n",
            "\n",
            "Después de estandarizar los valores:\n",
            "  Nombre       Edad     Genero           Email       Pais\n",
            "0   Juan  25.000000  Masculino   juan@mail.com   Colombia\n",
            "1  Maria  30.000000   Femenino  maria@mail.com   Colombia\n",
            "2  Pedro  26.666667  Masculino  pedro@mail.com     Mexico\n",
            "4   None  22.000000  Masculino    ana@mail.com  Argentina\n",
            "5    Ana  28.000000   Femenino    ana@mail.com  Argentina\n",
            "\n",
            "Después de restablecer el índice:\n",
            "  Nombre       Edad     Genero           Email       Pais\n",
            "0   Juan  25.000000  Masculino   juan@mail.com   Colombia\n",
            "1  Maria  30.000000   Femenino  maria@mail.com   Colombia\n",
            "2  Pedro  26.666667  Masculino  pedro@mail.com     Mexico\n",
            "3   None  22.000000  Masculino    ana@mail.com  Argentina\n",
            "4    Ana  28.000000   Femenino    ana@mail.com  Argentina\n"
          ]
        },
        {
          "output_type": "stream",
          "name": "stderr",
          "text": [
            "<ipython-input-3-4ff3fa6ebbcd>:16: FutureWarning: A value is trying to be set on a copy of a DataFrame or Series through chained assignment using an inplace method.\n",
            "The behavior will change in pandas 3.0. This inplace method will never work because the intermediate object on which we are setting values always behaves as a copy.\n",
            "\n",
            "For example, when doing 'df[col].method(value, inplace=True)', try using 'df.method({col: value}, inplace=True)' or df[col] = df[col].method(value) instead, to perform the operation inplace on the original object.\n",
            "\n",
            "\n",
            "  df['Edad'].fillna(df['Edad'].mean(), inplace=True)\n",
            "<ipython-input-3-4ff3fa6ebbcd>:17: FutureWarning: A value is trying to be set on a copy of a DataFrame or Series through chained assignment using an inplace method.\n",
            "The behavior will change in pandas 3.0. This inplace method will never work because the intermediate object on which we are setting values always behaves as a copy.\n",
            "\n",
            "For example, when doing 'df[col].method(value, inplace=True)', try using 'df.method({col: value}, inplace=True)' or df[col] = df[col].method(value) instead, to perform the operation inplace on the original object.\n",
            "\n",
            "\n",
            "  df['Genero'].fillna(df['Genero'].mode()[0], inplace=True)\n",
            "<ipython-input-3-4ff3fa6ebbcd>:26: FutureWarning: A value is trying to be set on a copy of a DataFrame or Series through chained assignment using an inplace method.\n",
            "The behavior will change in pandas 3.0. This inplace method will never work because the intermediate object on which we are setting values always behaves as a copy.\n",
            "\n",
            "For example, when doing 'df[col].method(value, inplace=True)', try using 'df.method({col: value}, inplace=True)' or df[col] = df[col].method(value) instead, to perform the operation inplace on the original object.\n",
            "\n",
            "\n",
            "  df['Genero'].replace({'M': 'Masculino', 'F': 'Femenino'}, inplace=True)\n"
          ]
        }
      ]
    },
    {
      "cell_type": "markdown",
      "source": [
        "Otro ejemplo"
      ],
      "metadata": {
        "id": "uCtCBa8oEkuh"
      }
    },
    {
      "cell_type": "code",
      "source": [
        "import pandas as pd\n",
        "import numpy as np\n",
        "\n",
        "# Cargar el archivo CSV en un DataFrame\n",
        "df = pd.read_csv('/content/DatosPersonales.csv')\n",
        "\n",
        "# 1. Reemplazar valores inconsistentes\n",
        "# Reemplazar valores vacíos o incorrectos ('None', 'nan', '-') por NaN\n",
        "df.replace([None, 'nan', '-'], np.nan, inplace=True)\n",
        "\n",
        "# 2. Limpiar la columna 'Genero'\n",
        "# Reemplazar 'M', 'H' por 'Masculino' y 'F', 'Mujer' por 'Femenino' para estandarizar\n",
        "df['Genero'].replace({'M': 'Masculino', 'H': 'Masculino', 'F': 'Femenino', 'Mujer': 'Femenino'}, inplace=True)\n",
        "\n",
        "# 3. Llenar valores faltantes en 'Edad' y 'Ingresos' con la mediana\n",
        "df['Edad'].fillna(df['Edad'].median(), inplace=True)\n",
        "df['Ingresos'].fillna(df['Ingresos'].median(), inplace=True)\n",
        "\n",
        "# 4. Llenar valores faltantes en 'Pais' con el valor más frecuente (moda)\n",
        "df['Pais'].fillna(df['Pais'].mode()[0], inplace=True)\n",
        "\n",
        "# 5. Convertir la columna 'Visitas' a tipo entero y llenar valores faltantes con la media\n",
        "df['Visitas'] = df['Visitas'].astype(float)\n",
        "df['Visitas'].fillna(int(df['Visitas'].mean()), inplace=True)\n",
        "\n",
        "# 6. Eliminar filas donde 'Email' esté vacío\n",
        "df.dropna(subset=['Email'], inplace=True)\n",
        "\n",
        "# 7. Eliminar duplicados si es necesario\n",
        "df.drop_duplicates(inplace=True)\n",
        "\n",
        "# 8. Restablecer el índice\n",
        "df.reset_index(drop=True, inplace=True)\n",
        "\n",
        "# 9. Guardar los datos limpios en un nuevo archivo CSV\n",
        "df.to_csv('DatosPersonalesLimpios.csv', index=False)\n",
        "\n",
        "# Mostrar los datos limpios\n",
        "print(df.to_csv)"
      ],
      "metadata": {
        "colab": {
          "base_uri": "https://localhost:8080/"
        },
        "id": "3msQ2mkmEmQz",
        "outputId": "3c5aa151-9437-46f9-9c92-69be4115c708"
      },
      "execution_count": 15,
      "outputs": [
        {
          "output_type": "stream",
          "name": "stdout",
          "text": [
            "<bound method NDFrame.to_csv of   Nombre  Edad     Genero  Ingresos           Email  Visitas       Pais\n",
            "0   Juan  25.0  Masculino    3000.0   juan@mail.com      5.0   Colombia\n",
            "1  Maria  30.0   Femenino    4000.0  maria@mail.com      7.0   Colombia\n",
            "2    NaN  22.0  Masculino    3200.0  pedro@mail.com      6.0   Colombia\n",
            "3  Luisa  29.0   Femenino    3200.0  luisa@mail.com      8.0  Argentina\n",
            "4    Ana  28.0   Femenino    3100.0    ana@mail.com      6.0   Colombia>\n"
          ]
        },
        {
          "output_type": "stream",
          "name": "stderr",
          "text": [
            "<ipython-input-15-57c4c9a38532>:13: FutureWarning: A value is trying to be set on a copy of a DataFrame or Series through chained assignment using an inplace method.\n",
            "The behavior will change in pandas 3.0. This inplace method will never work because the intermediate object on which we are setting values always behaves as a copy.\n",
            "\n",
            "For example, when doing 'df[col].method(value, inplace=True)', try using 'df.method({col: value}, inplace=True)' or df[col] = df[col].method(value) instead, to perform the operation inplace on the original object.\n",
            "\n",
            "\n",
            "  df['Genero'].replace({'M': 'Masculino', 'H': 'Masculino', 'F': 'Femenino', 'Mujer': 'Femenino'}, inplace=True)\n",
            "<ipython-input-15-57c4c9a38532>:16: FutureWarning: A value is trying to be set on a copy of a DataFrame or Series through chained assignment using an inplace method.\n",
            "The behavior will change in pandas 3.0. This inplace method will never work because the intermediate object on which we are setting values always behaves as a copy.\n",
            "\n",
            "For example, when doing 'df[col].method(value, inplace=True)', try using 'df.method({col: value}, inplace=True)' or df[col] = df[col].method(value) instead, to perform the operation inplace on the original object.\n",
            "\n",
            "\n",
            "  df['Edad'].fillna(df['Edad'].median(), inplace=True)\n",
            "<ipython-input-15-57c4c9a38532>:17: FutureWarning: A value is trying to be set on a copy of a DataFrame or Series through chained assignment using an inplace method.\n",
            "The behavior will change in pandas 3.0. This inplace method will never work because the intermediate object on which we are setting values always behaves as a copy.\n",
            "\n",
            "For example, when doing 'df[col].method(value, inplace=True)', try using 'df.method({col: value}, inplace=True)' or df[col] = df[col].method(value) instead, to perform the operation inplace on the original object.\n",
            "\n",
            "\n",
            "  df['Ingresos'].fillna(df['Ingresos'].median(), inplace=True)\n",
            "<ipython-input-15-57c4c9a38532>:20: FutureWarning: A value is trying to be set on a copy of a DataFrame or Series through chained assignment using an inplace method.\n",
            "The behavior will change in pandas 3.0. This inplace method will never work because the intermediate object on which we are setting values always behaves as a copy.\n",
            "\n",
            "For example, when doing 'df[col].method(value, inplace=True)', try using 'df.method({col: value}, inplace=True)' or df[col] = df[col].method(value) instead, to perform the operation inplace on the original object.\n",
            "\n",
            "\n",
            "  df['Pais'].fillna(df['Pais'].mode()[0], inplace=True)\n",
            "<ipython-input-15-57c4c9a38532>:24: FutureWarning: A value is trying to be set on a copy of a DataFrame or Series through chained assignment using an inplace method.\n",
            "The behavior will change in pandas 3.0. This inplace method will never work because the intermediate object on which we are setting values always behaves as a copy.\n",
            "\n",
            "For example, when doing 'df[col].method(value, inplace=True)', try using 'df.method({col: value}, inplace=True)' or df[col] = df[col].method(value) instead, to perform the operation inplace on the original object.\n",
            "\n",
            "\n",
            "  df['Visitas'].fillna(int(df['Visitas'].mean()), inplace=True)\n"
          ]
        }
      ]
    },
    {
      "cell_type": "markdown",
      "source": [
        "Otro ejemplo datos sucios:"
      ],
      "metadata": {
        "id": "Q6u0oO3DF-qX"
      }
    },
    {
      "cell_type": "code",
      "source": [
        "import pandas as pd\n",
        "import numpy as np\n",
        "\n",
        "# Crear un DataFrame con datos de ejemplo, incluyendo algunos valores NaN\n",
        "df = pd.read_csv('Datosucios.csv')  # This line loads the CSV file\n",
        "print(\"Data original:\")\n",
        "print(df)\n",
        "\n",
        "# Limpieza de datos\n",
        "# Reemplazar 'None' y 'nan' con NaN de numpy para estandarizar los valores faltantes\n",
        "df.replace([None, 'nan'], np.nan, inplace=True)\n",
        "print(\"Data reemplazo:\")\n",
        "print(df)\n",
        "\n",
        "# Llenar los valores faltantes para 'Edad' e 'Ingresos' con la mediana, y 'Visitas' con la media\n",
        "df['Edad'].fillna(df['Edad'].median(), inplace=True)\n",
        "df['Ingresos'].fillna(df['Ingresos'].median(), inplace=True)\n",
        "df['Visitas'].fillna(int(df['Visitas'].mean()), inplace=True)\n",
        "print(\"Data llena sin valores faltantes:\")\n",
        "print(df)\n",
        "\n",
        "# Eliminar filas donde 'Email' sea NaN si es necesario\n",
        "df.dropna(subset=['Email'], inplace=True)\n",
        "print(\"Data elimnada del Email:\")\n",
        "print(df)\n",
        "\n",
        "# Restablecer el índice después de las operaciones de limpieza\n",
        "df.reset_index(drop=True, inplace=True)\n",
        "\n",
        "# Guardar los datos limpios en un archivo CSV\n",
        "cleaned_data_path = 'DatosLimpios.csv'\n",
        "df.to_csv(cleaned_data_path, index=False)\n",
        "print(\"Data guradada:\")\n",
        "print(df)\n",
        "\n",
        "cleaned_data_path\n",
        "print(\"Data para descargar:\")\n",
        "print(df)"
      ],
      "metadata": {
        "colab": {
          "base_uri": "https://localhost:8080/"
        },
        "id": "XKqagd_HGD00",
        "outputId": "702e869a-5193-4fe3-f09f-658830a9dfe4"
      },
      "execution_count": 16,
      "outputs": [
        {
          "output_type": "stream",
          "name": "stdout",
          "text": [
            "Data original:\n",
            "      ID  Edad  Ingresos               Email  Visitas  Compra\n",
            "0      1  62.0  67091.01                 NaN      7.0   False\n",
            "1      2   NaN       NaN  ejemplo@correo.com      NaN   False\n",
            "2      3  18.0  56035.12                 NaN      5.0   False\n",
            "3      4  21.0  39727.85  ejemplo@correo.com      3.0   False\n",
            "4      5  21.0  36938.04       info@data.com      3.0   False\n",
            "..   ...   ...       ...                 ...      ...     ...\n",
            "145  146  59.0  55687.28     prueba@test.com      3.0    True\n",
            "146  147  19.0  83889.63       info@data.com      2.0   False\n",
            "147  148  54.0  49366.14                 NaN      4.0   False\n",
            "148  149  28.0  35660.82     prueba@test.com      4.0    True\n",
            "149  150   NaN       NaN       info@data.com      NaN   False\n",
            "\n",
            "[150 rows x 6 columns]\n",
            "Data reemplazo:\n",
            "      ID  Edad  Ingresos               Email  Visitas  Compra\n",
            "0      1  62.0  67091.01                 NaN      7.0   False\n",
            "1      2   NaN       NaN  ejemplo@correo.com      NaN   False\n",
            "2      3  18.0  56035.12                 NaN      5.0   False\n",
            "3      4  21.0  39727.85  ejemplo@correo.com      3.0   False\n",
            "4      5  21.0  36938.04       info@data.com      3.0   False\n",
            "..   ...   ...       ...                 ...      ...     ...\n",
            "145  146  59.0  55687.28     prueba@test.com      3.0    True\n",
            "146  147  19.0  83889.63       info@data.com      2.0   False\n",
            "147  148  54.0  49366.14                 NaN      4.0   False\n",
            "148  149  28.0  35660.82     prueba@test.com      4.0    True\n",
            "149  150   NaN       NaN       info@data.com      NaN   False\n",
            "\n",
            "[150 rows x 6 columns]\n",
            "Data llena sin valores faltantes:\n",
            "      ID  Edad   Ingresos               Email  Visitas  Compra\n",
            "0      1  62.0  67091.010                 NaN      7.0   False\n",
            "1      2  41.5  50209.845  ejemplo@correo.com      4.0   False\n",
            "2      3  18.0  56035.120                 NaN      5.0   False\n",
            "3      4  21.0  39727.850  ejemplo@correo.com      3.0   False\n",
            "4      5  21.0  36938.040       info@data.com      3.0   False\n",
            "..   ...   ...        ...                 ...      ...     ...\n",
            "145  146  59.0  55687.280     prueba@test.com      3.0    True\n",
            "146  147  19.0  83889.630       info@data.com      2.0   False\n",
            "147  148  54.0  49366.140                 NaN      4.0   False\n",
            "148  149  28.0  35660.820     prueba@test.com      4.0    True\n",
            "149  150  41.5  50209.845       info@data.com      4.0   False\n",
            "\n",
            "[150 rows x 6 columns]\n",
            "Data elimnada del Email:\n",
            "      ID  Edad   Ingresos               Email  Visitas  Compra\n",
            "1      2  41.5  50209.845  ejemplo@correo.com      4.0   False\n",
            "3      4  21.0  39727.850  ejemplo@correo.com      3.0   False\n",
            "4      5  21.0  36938.040       info@data.com      3.0   False\n",
            "5      6  57.0  41317.260     prueba@test.com      4.0    True\n",
            "6      7  27.0  45326.710     prueba@test.com      5.0   False\n",
            "..   ...   ...        ...                 ...      ...     ...\n",
            "144  145  32.0  49744.690       info@data.com      8.0   False\n",
            "145  146  59.0  55687.280     prueba@test.com      3.0    True\n",
            "146  147  19.0  83889.630       info@data.com      2.0   False\n",
            "148  149  28.0  35660.820     prueba@test.com      4.0    True\n",
            "149  150  41.5  50209.845       info@data.com      4.0   False\n",
            "\n",
            "[112 rows x 6 columns]\n",
            "Data guradada:\n",
            "      ID  Edad   Ingresos               Email  Visitas  Compra\n",
            "0      2  41.5  50209.845  ejemplo@correo.com      4.0   False\n",
            "1      4  21.0  39727.850  ejemplo@correo.com      3.0   False\n",
            "2      5  21.0  36938.040       info@data.com      3.0   False\n",
            "3      6  57.0  41317.260     prueba@test.com      4.0    True\n",
            "4      7  27.0  45326.710     prueba@test.com      5.0   False\n",
            "..   ...   ...        ...                 ...      ...     ...\n",
            "107  145  32.0  49744.690       info@data.com      8.0   False\n",
            "108  146  59.0  55687.280     prueba@test.com      3.0    True\n",
            "109  147  19.0  83889.630       info@data.com      2.0   False\n",
            "110  149  28.0  35660.820     prueba@test.com      4.0    True\n",
            "111  150  41.5  50209.845       info@data.com      4.0   False\n",
            "\n",
            "[112 rows x 6 columns]\n",
            "Data para descargar:\n",
            "      ID  Edad   Ingresos               Email  Visitas  Compra\n",
            "0      2  41.5  50209.845  ejemplo@correo.com      4.0   False\n",
            "1      4  21.0  39727.850  ejemplo@correo.com      3.0   False\n",
            "2      5  21.0  36938.040       info@data.com      3.0   False\n",
            "3      6  57.0  41317.260     prueba@test.com      4.0    True\n",
            "4      7  27.0  45326.710     prueba@test.com      5.0   False\n",
            "..   ...   ...        ...                 ...      ...     ...\n",
            "107  145  32.0  49744.690       info@data.com      8.0   False\n",
            "108  146  59.0  55687.280     prueba@test.com      3.0    True\n",
            "109  147  19.0  83889.630       info@data.com      2.0   False\n",
            "110  149  28.0  35660.820     prueba@test.com      4.0    True\n",
            "111  150  41.5  50209.845       info@data.com      4.0   False\n",
            "\n",
            "[112 rows x 6 columns]\n"
          ]
        },
        {
          "output_type": "stream",
          "name": "stderr",
          "text": [
            "<ipython-input-16-c2f2b8234248>:16: FutureWarning: A value is trying to be set on a copy of a DataFrame or Series through chained assignment using an inplace method.\n",
            "The behavior will change in pandas 3.0. This inplace method will never work because the intermediate object on which we are setting values always behaves as a copy.\n",
            "\n",
            "For example, when doing 'df[col].method(value, inplace=True)', try using 'df.method({col: value}, inplace=True)' or df[col] = df[col].method(value) instead, to perform the operation inplace on the original object.\n",
            "\n",
            "\n",
            "  df['Edad'].fillna(df['Edad'].median(), inplace=True)\n",
            "<ipython-input-16-c2f2b8234248>:17: FutureWarning: A value is trying to be set on a copy of a DataFrame or Series through chained assignment using an inplace method.\n",
            "The behavior will change in pandas 3.0. This inplace method will never work because the intermediate object on which we are setting values always behaves as a copy.\n",
            "\n",
            "For example, when doing 'df[col].method(value, inplace=True)', try using 'df.method({col: value}, inplace=True)' or df[col] = df[col].method(value) instead, to perform the operation inplace on the original object.\n",
            "\n",
            "\n",
            "  df['Ingresos'].fillna(df['Ingresos'].median(), inplace=True)\n",
            "<ipython-input-16-c2f2b8234248>:18: FutureWarning: A value is trying to be set on a copy of a DataFrame or Series through chained assignment using an inplace method.\n",
            "The behavior will change in pandas 3.0. This inplace method will never work because the intermediate object on which we are setting values always behaves as a copy.\n",
            "\n",
            "For example, when doing 'df[col].method(value, inplace=True)', try using 'df.method({col: value}, inplace=True)' or df[col] = df[col].method(value) instead, to perform the operation inplace on the original object.\n",
            "\n",
            "\n",
            "  df['Visitas'].fillna(int(df['Visitas'].mean()), inplace=True)\n"
          ]
        }
      ]
    },
    {
      "cell_type": "markdown",
      "source": [
        "Tareas repetitivas"
      ],
      "metadata": {
        "id": "hh-RJRtiGJJX"
      }
    },
    {
      "cell_type": "code",
      "source": [
        "import pandas as pd\n",
        "import numpy as np\n",
        "\n",
        "# Crear un DataFrame de ejemplo\n",
        "data = {\n",
        "    'Nombre': ['Juan', 'Maria', 'Pedro', None, 'Ana', 'Carlos', 'Juan'],\n",
        "    'Edad': [25, 30, np.nan, 22, 28, np.nan, 25],\n",
        "    'Genero': ['M', 'F', 'M', None, 'F', 'M', 'M'],\n",
        "    'Email': ['juan@mail.com', 'maria@mail.com', 'pedro@mail.com', 'ana@mail.com', 'ana@mail.com', None, 'juan@mail.com'],\n",
        "    'Pais': ['Colombia', None, 'Mexico', 'Argentina', 'Argentina', 'Brasil', 'Colombia']\n",
        "}\n",
        "\n",
        "df = pd.DataFrame(data)\n",
        "\n",
        "# 1. Identificar valores faltantes\n",
        "print(\"Valores faltantes:\\n\", df.isnull().sum())\n",
        "\n",
        "# 2. Rellenar valores faltantes\n",
        "df['Edad'].fillna(df['Edad'].median(), inplace=True)  # Usar la mediana para 'Edad'\n",
        "df['Genero'].fillna('Desconocido', inplace=True)      # Usar un valor específico para 'Genero'\n",
        "df['Pais'].fillna(df['Pais'].mode()[0], inplace=True)  # Usar la moda para 'Pais'\n",
        "\n",
        "# 3. Eliminar duplicados\n",
        "df.drop_duplicates(inplace=True)\n",
        "\n",
        "# 4. Estandarizar valores (corrección de inconsistencias)\n",
        "df['Genero'].replace({'M': 'Masculino', 'F': 'Femenino'}, inplace=True)\n",
        "\n",
        "# 5. Eliminar filas con valores críticos faltantes (como el Email)\n",
        "df.dropna(subset=['Email'], inplace=True)\n",
        "\n",
        "# 6. Restablecer el índice después de la eliminación de filas\n",
        "df.reset_index(drop=True, inplace=True)\n",
        "\n",
        "# Ver el DataFrame limpio\n",
        "print(\"\\nData limpia:\")\n",
        "print(df)\n"
      ],
      "metadata": {
        "colab": {
          "base_uri": "https://localhost:8080/"
        },
        "id": "DtQLA9IwGMYc",
        "outputId": "426aa2d9-988d-4946-e0a6-7abd5311ef28"
      },
      "execution_count": 17,
      "outputs": [
        {
          "output_type": "stream",
          "name": "stdout",
          "text": [
            "Valores faltantes:\n",
            " Nombre    1\n",
            "Edad      2\n",
            "Genero    1\n",
            "Email     1\n",
            "Pais      1\n",
            "dtype: int64\n",
            "\n",
            "Data limpia:\n",
            "  Nombre  Edad       Genero           Email       Pais\n",
            "0   Juan  25.0    Masculino   juan@mail.com   Colombia\n",
            "1  Maria  30.0     Femenino  maria@mail.com  Argentina\n",
            "2  Pedro  25.0    Masculino  pedro@mail.com     Mexico\n",
            "3   None  22.0  Desconocido    ana@mail.com  Argentina\n",
            "4    Ana  28.0     Femenino    ana@mail.com  Argentina\n"
          ]
        },
        {
          "output_type": "stream",
          "name": "stderr",
          "text": [
            "<ipython-input-17-018990be6263>:19: FutureWarning: A value is trying to be set on a copy of a DataFrame or Series through chained assignment using an inplace method.\n",
            "The behavior will change in pandas 3.0. This inplace method will never work because the intermediate object on which we are setting values always behaves as a copy.\n",
            "\n",
            "For example, when doing 'df[col].method(value, inplace=True)', try using 'df.method({col: value}, inplace=True)' or df[col] = df[col].method(value) instead, to perform the operation inplace on the original object.\n",
            "\n",
            "\n",
            "  df['Edad'].fillna(df['Edad'].median(), inplace=True)  # Usar la mediana para 'Edad'\n",
            "<ipython-input-17-018990be6263>:20: FutureWarning: A value is trying to be set on a copy of a DataFrame or Series through chained assignment using an inplace method.\n",
            "The behavior will change in pandas 3.0. This inplace method will never work because the intermediate object on which we are setting values always behaves as a copy.\n",
            "\n",
            "For example, when doing 'df[col].method(value, inplace=True)', try using 'df.method({col: value}, inplace=True)' or df[col] = df[col].method(value) instead, to perform the operation inplace on the original object.\n",
            "\n",
            "\n",
            "  df['Genero'].fillna('Desconocido', inplace=True)      # Usar un valor específico para 'Genero'\n",
            "<ipython-input-17-018990be6263>:21: FutureWarning: A value is trying to be set on a copy of a DataFrame or Series through chained assignment using an inplace method.\n",
            "The behavior will change in pandas 3.0. This inplace method will never work because the intermediate object on which we are setting values always behaves as a copy.\n",
            "\n",
            "For example, when doing 'df[col].method(value, inplace=True)', try using 'df.method({col: value}, inplace=True)' or df[col] = df[col].method(value) instead, to perform the operation inplace on the original object.\n",
            "\n",
            "\n",
            "  df['Pais'].fillna(df['Pais'].mode()[0], inplace=True)  # Usar la moda para 'Pais'\n",
            "<ipython-input-17-018990be6263>:27: FutureWarning: A value is trying to be set on a copy of a DataFrame or Series through chained assignment using an inplace method.\n",
            "The behavior will change in pandas 3.0. This inplace method will never work because the intermediate object on which we are setting values always behaves as a copy.\n",
            "\n",
            "For example, when doing 'df[col].method(value, inplace=True)', try using 'df.method({col: value}, inplace=True)' or df[col] = df[col].method(value) instead, to perform the operation inplace on the original object.\n",
            "\n",
            "\n",
            "  df['Genero'].replace({'M': 'Masculino', 'F': 'Femenino'}, inplace=True)\n"
          ]
        }
      ]
    }
  ]
}