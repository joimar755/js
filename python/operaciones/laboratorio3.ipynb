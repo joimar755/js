{
 "cells": [
  {
   "cell_type": "code",
   "execution_count": 13,
   "id": "410c3bd6",
   "metadata": {},
   "outputs": [
    {
     "name": "stdout",
     "output_type": "stream",
     "text": [
      "   Nombre  Edad            Email       Pais  Categoria FechaIngreso  Ingresos\n",
      "0  Carlos  34.0  carlos@mail.com   Colombia    Cliente   2021-01-15    5000.0\n",
      "1     Ana  29.0     ana@mail.com   Colombia    Cliente   2020/03/12    7000.0\n",
      "2    Luis   NaN    luis@mail.com     Mexico  Proveedor   2022-07-01    4000.0\n",
      "3   Pedro  45.0   pedro@mail.com  Argentina        NaN   2021/12/01    6000.0\n",
      "4   María  25.0   maria@mail.com   Colombia    Cliente   2021-05-20    8000.0\n",
      "5     NaN  33.0   lucia@mail.com  Argentina  Proveedor   2020-03-12    7500.0\n",
      "6   Lucía  30.0              NaN     Brasil  Proveedor   2019-11-30    3000.0\n",
      "7  Andrés   NaN  andres@mail.com        NaN    Cliente   2022-01-01       NaN\n",
      "8   Sofía  22.0   sofia@mail.com       Peru        NaN   2021/08/15    5500.0\n",
      "9  Miguel  40.0  miguel@mail.com      Chile  Proveedor          NaN    6200.0\n",
      "-----Valores nulos x columna-----\n",
      "---------contando duplicados------------\n",
      "-----eliminando duplicados-----\n",
      "imputacion de valores\n",
      "   Nombre   Edad            Email       Pais  Categoria FechaIngreso  Ingresos\n",
      "0  Carlos  34.00  carlos@mail.com   colombia    cliente   2021-01-15    5000.0\n",
      "1     Ana  29.00     ana@mail.com   colombia    cliente          NaT    7000.0\n",
      "2    Luis  32.25    luis@mail.com     mexico  proveedor   2022-07-01    4000.0\n",
      "3   Pedro  45.00   pedro@mail.com  argentina    cliente          NaT    6000.0\n",
      "4   María  25.00   maria@mail.com   colombia    cliente   2021-05-20    8000.0\n",
      "5     NaN  33.00   lucia@mail.com  argentina  proveedor   2020-03-12    7500.0\n",
      "7  Andrés  32.25  andres@mail.com   colombia    cliente   2022-01-01    5800.0\n",
      "8   Sofía  22.00   sofia@mail.com       peru    cliente          NaT    5500.0\n",
      "9  Miguel  40.00  miguel@mail.com      chile  proveedor          NaT    6200.0\n"
     ]
    }
   ],
   "source": [
    "import pandas as pd\n",
    "import numpy as np\n",
    "\n",
    "df = pd.read_csv('DatosSuciosLab.csv')\n",
    "print(df)\n",
    "print(\"-----Valores nulos x columna-----\")\n",
    "#print(df.isnull().sum())\n",
    "print(\"---------contando duplicados------------\")\n",
    "#print(df.duplicated().sum())\n",
    "\n",
    "print(\"-----eliminando duplicados-----\")\n",
    "df = df.drop_duplicates()\n",
    "\n",
    "print(\"imputacion de valores\")\n",
    "df['Edad'] = df[\"Edad\"].fillna(df[\"Edad\"].mean())\n",
    "df['Ingresos'] = df[\"Ingresos\"].fillna(df[\"Ingresos\"].mean())\n",
    "df['Pais'] = df[\"Pais\"].fillna(df[\"Pais\"].mode()[0])\n",
    "df['Categoria'] = df[\"Categoria\"].fillna(df[\"Categoria\"].mode()[0])\n",
    "df=df.dropna(subset=['Email'])\n",
    "df['Pais'] = df['Pais'].str.lower()\n",
    "df['Categoria'] = df['Categoria'].str.lower()\n",
    "df['FechaIngreso'] = pd.to_datetime(df[\"FechaIngreso\"], errors='coerce')\n",
    "\n",
    "print(df)\n"
   ]
  }
 ],
 "metadata": {
  "kernelspec": {
   "display_name": "Python 3",
   "language": "python",
   "name": "python3"
  },
  "language_info": {
   "codemirror_mode": {
    "name": "ipython",
    "version": 3
   },
   "file_extension": ".py",
   "mimetype": "text/x-python",
   "name": "python",
   "nbconvert_exporter": "python",
   "pygments_lexer": "ipython3",
   "version": "3.12.1"
  }
 },
 "nbformat": 4,
 "nbformat_minor": 5
}
