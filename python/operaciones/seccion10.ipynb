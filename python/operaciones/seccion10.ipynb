{
 "cells": [
  {
   "cell_type": "code",
   "execution_count": 5,
   "id": "829b4125",
   "metadata": {},
   "outputs": [
    {
     "name": "stdout",
     "output_type": "stream",
     "text": [
      "   Nombre  Edad Genero           Email       Pais\n",
      "0    Juan  25.0      M   juan@mail.com   Colombia\n",
      "1   Maria  30.0      F  maria@mail.com   Colombia\n",
      "2   Pedro   NaN      M  pedro@mail.com     Mexico\n",
      "3   Maria  30.0      F  maria@mail.com   Colombia\n",
      "4    None  22.0   None    ana@mail.com  Argentina\n",
      "5     Ana  28.0      F    ana@mail.com  Argentina\n",
      "6  Carlos   NaN      M            None     Brasil\n",
      "7    Juan  25.0      M   juan@mail.com   Colombia\n",
      "  Nombre  Edad Genero           Email       Pais\n",
      "0   Juan  25.0      M   juan@mail.com   Colombia\n",
      "1  Maria  30.0      F  maria@mail.com   Colombia\n",
      "2  Pedro   NaN      M  pedro@mail.com     Mexico\n",
      "3  Maria  30.0      F  maria@mail.com   Colombia\n",
      "4   None  22.0      M    ana@mail.com  Argentina\n",
      "5    Ana  28.0      F    ana@mail.com  Argentina\n",
      "7   Juan  25.0      M   juan@mail.com   Colombia\n",
      "\n",
      "Después de estandarizar los valores:\n",
      "  Nombre  Edad     Genero           Email       Pais\n",
      "0   Juan  25.0  Masculino   juan@mail.com   Colombia\n",
      "1  Maria  30.0   Femenino  maria@mail.com   Colombia\n",
      "2  Pedro   NaN  Masculino  pedro@mail.com     Mexico\n",
      "3  Maria  30.0   Femenino  maria@mail.com   Colombia\n",
      "4   None  22.0  Masculino    ana@mail.com  Argentina\n",
      "5    Ana  28.0   Femenino    ana@mail.com  Argentina\n",
      "7   Juan  25.0  Masculino   juan@mail.com   Colombia\n",
      "\n",
      "Después de restablecer el índice:\n",
      "  Nombre  Edad     Genero           Email       Pais\n",
      "0   Juan  25.0  Masculino   juan@mail.com   Colombia\n",
      "1  Maria  30.0   Femenino  maria@mail.com   Colombia\n",
      "2  Pedro   NaN  Masculino  pedro@mail.com     Mexico\n",
      "3  Maria  30.0   Femenino  maria@mail.com   Colombia\n",
      "4   None  22.0  Masculino    ana@mail.com  Argentina\n",
      "5    Ana  28.0   Femenino    ana@mail.com  Argentina\n",
      "6   Juan  25.0  Masculino   juan@mail.com   Colombia\n"
     ]
    },
    {
     "name": "stderr",
     "output_type": "stream",
     "text": [
      "/tmp/ipykernel_46440/1611536122.py:16: FutureWarning: A value is trying to be set on a copy of a DataFrame or Series through chained assignment using an inplace method.\n",
      "The behavior will change in pandas 3.0. This inplace method will never work because the intermediate object on which we are setting values always behaves as a copy.\n",
      "\n",
      "For example, when doing 'df[col].method(value, inplace=True)', try using 'df.method({col: value}, inplace=True)' or df[col] = df[col].method(value) instead, to perform the operation inplace on the original object.\n",
      "\n",
      "\n",
      "  df['Genero'].fillna(df['Genero'].mode()[0], inplace=True)\n",
      "/tmp/ipykernel_46440/1611536122.py:19: FutureWarning: A value is trying to be set on a copy of a DataFrame or Series through chained assignment using an inplace method.\n",
      "The behavior will change in pandas 3.0. This inplace method will never work because the intermediate object on which we are setting values always behaves as a copy.\n",
      "\n",
      "For example, when doing 'df[col].method(value, inplace=True)', try using 'df.method({col: value}, inplace=True)' or df[col] = df[col].method(value) instead, to perform the operation inplace on the original object.\n",
      "\n",
      "\n",
      "  df['Genero'].replace({'M': 'Masculino', 'F': 'Femenino'},\n"
     ]
    }
   ],
   "source": [
    "import pandas as pd\n",
    "import numpy as np\n",
    "data = {\n",
    " 'Nombre': ['Juan', 'Maria', 'Pedro', 'Maria', None, 'Ana', 'Carlos', 'Juan'],\n",
    " 'Edad': [25, 30, np.nan, 30, 22, 28, np.nan, 25],\n",
    " 'Genero': ['M', 'F', 'M', 'F', None, 'F', 'M', 'M'],\n",
    " 'Email': ['juan@mail.com', 'maria@mail.com', 'pedro@mail.com',\n",
    "'maria@mail.com', 'ana@mail.com', 'ana@mail.com', None,\n",
    "'juan@mail.com'],\n",
    " 'Pais': ['Colombia', 'Colombia', 'Mexico', 'Colombia', 'Argentina',\n",
    "'Argentina', 'Brasil', 'Colombia']\n",
    "}\n",
    "df = pd.DataFrame(data)\n",
    "print(df)\n",
    "df['Edad'].fillna(df['Edad'].mean()).round(2)\n",
    "df['Genero'].fillna(df['Genero'].mode()[0], inplace=True)\n",
    "df.dropna(subset=['Email'], inplace=True)\n",
    "print(df)\n",
    "df['Genero'].replace({'M': 'Masculino', 'F': 'Femenino'},\n",
    "inplace=True)\n",
    "print(\"\\nDespués de estandarizar los valores:\")\n",
    "print(df)\n",
    "df.reset_index(drop=True, inplace=True)\n",
    "print(\"\\nDespués de restablecer el índice:\")\n",
    "print(df)\n"
   ]
  }
 ],
 "metadata": {
  "kernelspec": {
   "display_name": "Python 3",
   "language": "python",
   "name": "python3"
  },
  "language_info": {
   "codemirror_mode": {
    "name": "ipython",
    "version": 3
   },
   "file_extension": ".py",
   "mimetype": "text/x-python",
   "name": "python",
   "nbconvert_exporter": "python",
   "pygments_lexer": "ipython3",
   "version": "3.12.1"
  }
 },
 "nbformat": 4,
 "nbformat_minor": 5
}
