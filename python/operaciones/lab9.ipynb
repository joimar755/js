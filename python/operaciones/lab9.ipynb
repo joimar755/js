{
 "cells": [
  {
   "cell_type": "code",
   "execution_count": 7,
   "id": "f22f2be3",
   "metadata": {},
   "outputs": [
    {
     "name": "stdout",
     "output_type": "stream",
     "text": [
      "valores faltantes: \n",
      "Nombre          0\n",
      "Edad            1\n",
      "Salario         0\n",
      "FechaIngreso    0\n",
      "dtype: int64\n",
      "Salarios incorrectos: \n",
      "  Nombre  Edad    Salario FechaIngreso\n",
      "2  Pedro   NaN  cinco mil   2022-07-01\n",
      "Fechas incorrectas: \n",
      "  Nombre FechaIngreso\n",
      "0   Juan   2021-01-15\n",
      "1   Ana,          NaT\n",
      "2  Pedro   2022-07-01\n",
      "3  Maria          NaT\n",
      "4   Luis   2021-05-20\n",
      "5    Ana   2020-03-12\n"
     ]
    }
   ],
   "source": [
    "import pandas as pd\n",
    "\n",
    "data={\n",
    "    'Nombre':['Juan','Ana,','Pedro','Maria','Luis','Ana'],\n",
    "    'Edad':[28,34,None,45,38,34],\n",
    "    'Salario':[3000,4000,'cinco mil',4500,4000,5000],\n",
    "    'FechaIngreso':['2021-01-15','2020/04/12','2022-07-01','2021/12/01','2021-05-20','2020-03-12']\n",
    "}\n",
    "df = pd.DataFrame(data)\n",
    "#print(df)\n",
    "print(\"valores faltantes: \")\n",
    "print(df.isnull().sum())\n",
    "salarios_icorrectos = df[~df['Salario'].astype(str).str.match(r'^\\d+$')]\n",
    "print(\"Salarios incorrectos: \")\n",
    "print(salarios_icorrectos)\n",
    "print(\"Fechas incorrectas: \")\n",
    "df['FechaIngreso'] = pd.to_datetime(df['FechaIngreso'], errors='coerce', format='%Y-%m-%d')\n",
    "print(df[['Nombre', 'FechaIngreso']])\n"
   ]
  },
  {
   "cell_type": "code",
   "execution_count": 13,
   "id": "0c077198",
   "metadata": {},
   "outputs": [
    {
     "name": "stdout",
     "output_type": "stream",
     "text": [
      "  Nombre  Edad     Salario          Cargo FechaIngreso\n",
      "0   Juan  28.0        3000       Analista   2021-01-15\n",
      "1   Ana,   NaN        4000        Gerente   2020/03/12\n",
      "2  Pedro  40.0        4500  Desarrollador   2022-07-01\n",
      "3  Maria  45.0  cuatro mil        Gerente   2021/12/01\n",
      "4   Luis  38.0        5000       Analista         None\n",
      "5  Carla  34.0        4000           None   2020-03-12\n",
      "valores faltantes: \n",
      "Nombre          0\n",
      "Edad            1\n",
      "Salario         0\n",
      "Cargo           1\n",
      "FechaIngreso    1\n",
      "dtype: int64\n",
      "Salarios incorrectos: \n",
      "  Nombre  Edad     Salario    Cargo FechaIngreso\n",
      "3  Maria  45.0  cuatro mil  Gerente   2021/12/01\n",
      "Fechas incorrectas: \n",
      "  Nombre FechaIngreso\n",
      "0   Juan   2021-01-15\n",
      "1   Ana,          NaT\n",
      "2  Pedro   2022-07-01\n",
      "3  Maria          NaT\n",
      "4   Luis          NaT\n",
      "5  Carla   2020-03-12\n",
      "Cargos faltantes: \n",
      "  Nombre  Edad Salario Cargo FechaIngreso\n",
      "5  Carla  34.0    4000  None   2020-03-12\n"
     ]
    }
   ],
   "source": [
    "import pandas as pd\n",
    "data={\n",
    "    'Nombre':['Juan','Ana,','Pedro','Maria','Luis','Carla'],\n",
    "    'Edad':[28,None,40,45,38,34],\n",
    "    'Salario':[3000,4000,4500,'cuatro mil',5000,4000],\n",
    "    'Cargo':['Analista','Gerente','Desarrollador','Gerente','Analista',None],\n",
    "    'FechaIngreso':['2021-01-15','2020/03/12','2022-07-01','2021/12/01',None,'2020-03-12']\n",
    "} \n",
    "df = pd.DataFrame(data)\n",
    "print(df)\n",
    "\n",
    "print(\"valores faltantes: \")\n",
    "print(df.isnull().sum())\n",
    "salarios_icorrectos = df[~df['Salario'].astype(str).str.match(r'^\\d+$')]\n",
    "print(\"Salarios incorrectos: \")\n",
    "print(salarios_icorrectos)\n",
    "print(\"Fechas incorrectas: \")\n",
    "df['FechaIngreso'] = pd.to_datetime(df['FechaIngreso'], errors='coerce', format='%Y-%m-%d')\n",
    "print(df[['Nombre', 'FechaIngreso']])\n",
    "cargos_faltantes = df[df['Cargo'].isnull()]\n",
    "print(\"Cargos faltantes: \")\n",
    "print(cargos_faltantes)"
   ]
  },
  {
   "cell_type": "code",
   "execution_count": null,
   "id": "80638b79",
   "metadata": {},
   "outputs": [
    {
     "name": "stdout",
     "output_type": "stream",
     "text": [
      "     Producto  Precio\n",
      "0   ProductoA   100.0\n",
      "1   ProductoB   -25.0\n",
      "2   ProductoC   100.0\n",
      "3  Producto D     NaN\n",
      "Validación de precios--------: \n",
      "     Producto  Precio Validación Precio\n",
      "0   ProductoA   100.0            Válido\n",
      "1   ProductoB   -25.0          Inválido\n",
      "2   ProductoC   100.0            Válido\n",
      "3  Producto D     NaN          Inválido\n",
      "Precios inválidos----------: \n",
      "     Producto  Precio Validación Precio\n",
      "1   ProductoB   -25.0          Inválido\n",
      "3  Producto D     NaN          Inválido\n"
     ]
    }
   ],
   "source": [
    "import pandas as pd\n",
    "datos={'Producto':['ProductoA','ProductoB','ProductoC','Producto D'],\n",
    " 'Precio':[100,-25,100,None]} #Precionegativoyvalorfaltante\n",
    "df=pd.DataFrame(datos)\n",
    "print(df)\n",
    "df['Validación Precio'] = df['Precio'].apply(lambda x: 'Válido' if\n",
    "pd.notnull(x) and x >= 0 else 'Inválido')\n",
    "print(\"Validación de precios--------: \")\n",
    "print(df)\n",
    "df_invalidos = df[df['Validación Precio'] == 'Inválido']\n",
    "print(\"Precios inválidos----------: \")  \n",
    "print(df_invalidos)\n"
   ]
  },
  {
   "cell_type": "code",
   "execution_count": 21,
   "id": "97cf332b",
   "metadata": {},
   "outputs": [
    {
     "name": "stdout",
     "output_type": "stream",
     "text": [
      "DataFrame original-------------: \n",
      "   IDCliente  Nombre\n",
      "0          1     Ana\n",
      "1          2    Luis\n",
      "2          3   María\n",
      "3          2    Luis\n",
      "4          4  Carlos\n",
      "Duplicados---------------: \n",
      "   IDCliente Nombre\n",
      "3          2   Luis\n"
     ]
    }
   ],
   "source": [
    "import pandas as pd\n",
    "clientes={'IDCliente':[1,2,3,2,4],\n",
    " 'Nombre':['Ana','Luis','María','Luis','Carlos']}\n",
    "df_clientes=pd.DataFrame(clientes)\n",
    "print(\"DataFrame original-------------: \")\n",
    "print(df_clientes)\n",
    "duplicados = df_clientes[df_clientes.duplicated('IDCliente')]\n",
    "print(\"Duplicados---------------: \")\n",
    "print(duplicados)"
   ]
  },
  {
   "cell_type": "code",
   "execution_count": 27,
   "id": "fba14471",
   "metadata": {},
   "outputs": [
    {
     "name": "stdout",
     "output_type": "stream",
     "text": [
      "Datos Encriptados: b'gAAAAABoFOQ5EjYFdDj-U4PFVqupUNGPcqPd7uaDO8bmeJ1DKI56_OsURweLCuyP9I9WS3YCE2NNLUadGCNhUCFJfO5lGGHUbuFVOzbU8F2x8OucdAK2HF0='\n",
      "Datos Desencriptados: 1234-5678-9101-1121\n"
     ]
    }
   ],
   "source": [
    "from cryptography.fernet import Fernet\n",
    "key = Fernet.generate_key()\n",
    "cipher_suite = Fernet(key)\n",
    "datos_sensibles = \"1234-5678-9101-1121\".encode()\n",
    "datos_encriptados =cipher_suite.encrypt(datos_sensibles)\n",
    "datos_desencriptados =cipher_suite.decrypt(datos_encriptados)\n",
    "print(\"Datos Encriptados:\", datos_encriptados)\n",
    "print(\"Datos Desencriptados:\",\n",
    "datos_desencriptados.decode())"
   ]
  }
 ],
 "metadata": {
  "kernelspec": {
   "display_name": "Python 3",
   "language": "python",
   "name": "python3"
  },
  "language_info": {
   "codemirror_mode": {
    "name": "ipython",
    "version": 3
   },
   "file_extension": ".py",
   "mimetype": "text/x-python",
   "name": "python",
   "nbconvert_exporter": "python",
   "pygments_lexer": "ipython3",
   "version": "3.12.1"
  }
 },
 "nbformat": 4,
 "nbformat_minor": 5
}
